{
  "cells": [
    {
      "cell_type": "markdown",
      "id": "91f86596",
      "metadata": {
        "id": "91f86596"
      },
      "source": [
        "# Diabetes dataset - EDA\n",
        "\n",
        "## Abstract\n",
        "\n",
        "1. Is this a classification or regression problem?\n",
        "2. How many features are present? Are they all comntinuous or are there any categorical features? If so, are there any ordinal features?\n",
        "3. What is the target variable, also referred to as the outcome variable?\n",
        "4. If it is a classification problem, is the dataset imbalanced?\n",
        "5. Are there duplicate data? How to deal with them?\n",
        "6. Are there missing values? If so, how to deal with them?\n",
        "7. Are there outlier samples? How to identify them?\n",
        "8. Plot the distribution of the following features: Glucose, BP, Skin thickness, BMI. What distribution do you observe? How about the distribution of the features Pedigree and Age? How about the features Pregnancies and Insulin?"
      ]
    },
    {
      "cell_type": "code",
      "execution_count": null,
      "id": "11cd04ba",
      "metadata": {
        "id": "11cd04ba"
      },
      "outputs": [],
      "source": [
        "## Load essential libraries\n",
        "import numpy as np\n",
        "import pandas as pd\n",
        "import sys\n",
        "import seaborn as sns\n",
        "import matplotlib.pyplot as plt\n",
        "import matplotlib.cm as cm\n",
        "plt.style.use('seaborn-whitegrid')\n",
        "%matplotlib inline\n",
        "\n",
        "import scipy.stats\n",
        "from scipy.stats import *\n",
        "\n",
        "import warnings\n",
        "warnings.filterwarnings(\"ignore\")"
      ]
    },
    {
      "cell_type": "code",
      "execution_count": null,
      "id": "4e179afb",
      "metadata": {
        "id": "4e179afb"
      },
      "outputs": [],
      "source": [
        "import sklearn\n",
        "sklearn.__version__"
      ]
    },
    {
      "cell_type": "code",
      "source": [
        "## Mount the Google Drive folder for accessing data etc\n",
        "if('google.colab' in sys.modules):\n",
        "    from google.colab import drive\n",
        "    drive.mount('/content/drive', force_remount = True)\n",
        "    # Change path below starting from /content/drive/MyDrive/Colab Notebooks/\n",
        "    # depending on how data is organized inside your Colab Notebooks folder in\n",
        "    # Google Drive\n",
        "    DIR = '/content/drive/MyDrive/Colab Notebooks/MAHE/MSIS Coursework/Miniprojects/EDA'\n",
        "    DATA_DIR = DIR+'/Data/'\n",
        "else:\n",
        "    DATA_DIR = 'Data/'"
      ],
      "metadata": {
        "id": "8N869o4CHSl3"
      },
      "id": "8N869o4CHSl3",
      "execution_count": null,
      "outputs": []
    },
    {
      "cell_type": "code",
      "execution_count": null,
      "id": "583cdaef",
      "metadata": {
        "id": "583cdaef"
      },
      "outputs": [],
      "source": [
        "## Load the diabetes dataset\n",
        "FILENAME = DATA_DIR + 'diabetes.csv'\n",
        "df = pd.read_csv(FILENAME)\n",
        "print('Diabetes dataset')\n",
        "print('-----------')\n",
        "print('Initial number of samples = %d'%(df.shape[0]))\n",
        "print('Initial number of features = %d\\n'%(df.shape[1]))\n",
        "df.head(5)"
      ]
    },
    {
      "cell_type": "markdown",
      "id": "499620cd",
      "metadata": {
        "id": "499620cd"
      },
      "source": [
        "## EDA Begins"
      ]
    },
    {
      "cell_type": "code",
      "source": [
        "## Check missing values across all features\n",
        "df.isna().sum()"
      ],
      "metadata": {
        "id": "hm73UIihIlE8"
      },
      "id": "hm73UIihIlE8",
      "execution_count": null,
      "outputs": []
    },
    {
      "cell_type": "code",
      "source": [
        "## How many missing values in total across all features?\n",
        "df.isna().sum() #There are no na"
      ],
      "metadata": {
        "id": "XaJt9GriKF7Y"
      },
      "id": "XaJt9GriKF7Y",
      "execution_count": null,
      "outputs": []
    },
    {
      "cell_type": "code",
      "source": [
        "## Plot percentage of missing values (NaNs) for each feature\n",
        "cutoff = 30 # we will remove features missing in more than 30% of the samples\n",
        "fig = plt.figure(figsize=(20,10))\n",
        "percent_missing = (df.isna().sum() / df.shape[0]) * 100\n",
        "percent_missing.plot(kind = 'bar', color = cm.rainbow(np.linspace(0, 1, 2))[(percent_missing <= cutoff).values.astype(int)])\n",
        "plt.plot(np.arange(df.shape[1]), np.repeat(cutoff, df.shape[1]), 'g--')\n",
        "fig.suptitle('Percentage Missing Values Across All Features', fontsize = 20)\n",
        "plt.xlabel('Feature', fontsize = 16)\n",
        "plt.ylabel('% Missing Values', fontsize = 16)"
      ],
      "metadata": {
        "id": "gbutF-iqIGI9"
      },
      "id": "gbutF-iqIGI9",
      "execution_count": null,
      "outputs": []
    },
    {
      "cell_type": "code",
      "execution_count": null,
      "id": "b5283e45",
      "metadata": {
        "id": "b5283e45"
      },
      "outputs": [],
      "source": [
        "## Find null columns\n",
        "# All columns wont be displayed on large column datasets if these are not specified: verbose=True, show_counts=True\n",
        "df.info(verbose = True, show_counts = True)"
      ]
    },
    {
      "cell_type": "code",
      "execution_count": null,
      "id": "a3ac05f0",
      "metadata": {
        "id": "a3ac05f0"
      },
      "outputs": [],
      "source": [
        "## Check for duplicate samples\n",
        "dupsSeries = df.duplicated() # returns a series with True False for every row\n",
        "print(f\"Number of duplicates = {dupsSeries.sum()}\") # WOW 1256 duplicate rows. Need to be dropped\n",
        "df.drop_duplicates(inplace=True)\n",
        "df.info() # only 744 unique rows here"
      ]
    },
    {
      "cell_type": "code",
      "execution_count": null,
      "id": "9aa203e5",
      "metadata": {
        "id": "9aa203e5"
      },
      "outputs": [],
      "source": [
        "## Print unique values across all features\n",
        "df.nunique() # this is for identifying candidate features for encodings."
      ]
    },
    {
      "cell_type": "code",
      "execution_count": null,
      "id": "2356465a",
      "metadata": {
        "id": "2356465a"
      },
      "outputs": [],
      "source": [
        "## Check if this is an imbalanced dataset\n",
        "zeroClassCount = df[df[\"Outcome\"] == 0][\"Outcome\"].count()\n",
        "zeroClassCount/df.shape[0] #not exactly 50-50, quite imbalanced but not too bad. no need for drastic measure such as SMOTE"
      ]
    },
    {
      "cell_type": "code",
      "execution_count": null,
      "id": "d4d114bb",
      "metadata": {
        "id": "d4d114bb"
      },
      "outputs": [],
      "source": [
        "# Run this optional code only for visualization\n",
        "# If you do not have yellowbricks, you can skip it\n",
        "from yellowbrick.target import ClassBalance\n",
        "\n",
        "visualizer = ClassBalance(labels=[1, 0])\n",
        "visualizer.fit(df[\"Outcome\"]) # Fit the data to the visualizer\n",
        "visualizer.show() # Finalize and render the figure"
      ]
    },
    {
      "cell_type": "code",
      "execution_count": null,
      "id": "6e998e6a",
      "metadata": {
        "id": "6e998e6a"
      },
      "outputs": [],
      "source": [
        "## Plot distributions of continuous features\n",
        "plt.figure(figsize=(12,12))\n",
        "plt.subplot(3,3,1)\n",
        "sns.distplot(df.Pregnancies)\n",
        "plt.subplot(3,3,2)\n",
        "sns.distplot(df.Glucose)\n",
        "plt.subplot(3,3,3)\n",
        "sns.distplot(df.BloodPressure)\n",
        "plt.subplot(3,3,4)\n",
        "sns.distplot(df.SkinThickness)\n",
        "plt.subplot(3,3,5)\n",
        "sns.distplot(df.Insulin)\n",
        "plt.subplot(3,3,6)\n",
        "sns.distplot(df.BMI)\n",
        "plt.subplot(3,3,7)\n",
        "sns.distplot(df.DiabetesPedigreeFunction)\n",
        "plt.subplot(3,3,8)\n",
        "sns.distplot(df.Age)"
      ]
    },
    {
      "cell_type": "code",
      "execution_count": null,
      "id": "1c113cab",
      "metadata": {
        "id": "1c113cab"
      },
      "outputs": [],
      "source": [
        "## Box-plot for detecting outliers across features\n",
        "df.plot(kind=\"box\",subplots=True,figsize=(15,5),title=\"Data with Outliers\");"
      ]
    },
    {
      "cell_type": "code",
      "execution_count": null,
      "id": "e0ca358f",
      "metadata": {
        "id": "e0ca358f"
      },
      "outputs": [],
      "source": [
        "## How many 0 in each column\n",
        "for col in df.columns:\n",
        "    count = (df[col] == 0).sum()\n",
        "    percentage = (count * 100)/df.shape[0]\n",
        "    print(f'Count of zeros in Column {col} : {count}, percentage 0s: {percentage:.2f}%')"
      ]
    },
    {
      "cell_type": "code",
      "execution_count": null,
      "id": "cd3ab3f5",
      "metadata": {
        "id": "cd3ab3f5"
      },
      "outputs": [],
      "source": [
        "## High percentage of 0. Replace 0 with Nan\n",
        "df[['Pregnancies', 'BloodPressure','SkinThickness','Insulin','BMI']] = df[['Pregnancies', 'BloodPressure','SkinThickness','Insulin','BMI']].replace(0, np.NaN)"
      ]
    },
    {
      "cell_type": "code",
      "execution_count": null,
      "id": "32ce77f7",
      "metadata": {
        "id": "32ce77f7"
      },
      "outputs": [],
      "source": [
        "## How many missing values now?\n",
        "df.isna().sum()"
      ]
    },
    {
      "cell_type": "code",
      "execution_count": null,
      "id": "2939b887",
      "metadata": {
        "id": "2939b887"
      },
      "outputs": [],
      "source": [
        "## Distribution after 0 to Nan Replacement\n",
        "df.hist(figsize=(12,6))"
      ]
    }
  ],
  "metadata": {
    "kernelspec": {
      "display_name": "Python 3 (ipykernel)",
      "language": "python",
      "name": "python3"
    },
    "language_info": {
      "codemirror_mode": {
        "name": "ipython",
        "version": 3
      },
      "file_extension": ".py",
      "mimetype": "text/x-python",
      "name": "python",
      "nbconvert_exporter": "python",
      "pygments_lexer": "ipython3",
      "version": "3.9.17"
    },
    "colab": {
      "provenance": []
    }
  },
  "nbformat": 4,
  "nbformat_minor": 5
}