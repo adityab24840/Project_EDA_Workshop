{
  "cells": [
    {
      "cell_type": "code",
      "execution_count": null,
      "metadata": {
        "id": "48vAXjSNQSI3"
      },
      "outputs": [],
      "source": [
        "import pandas as pd\n",
        "import numpy as np\n",
        "import math\n",
        "import os\n",
        "import sys\n",
        "import datetime\n",
        "\n",
        "from scipy.spatial.distance import pdist, squareform\n",
        "from scipy.fftpack import fft\n",
        "from sklearn.manifold import MDS\n",
        "from sklearn.neighbors import NearestNeighbors\n",
        "from sklearn.preprocessing import StandardScaler, FunctionTransformer\n",
        "from sklearn.linear_model import LinearRegression, Ridge, Lasso\n",
        "\n",
        "import matplotlib.pyplot as plt\n",
        "import matplotlib.cm as cm\n",
        "import matplotlib.dates as dates\n",
        "plt.style.use('seaborn-whitegrid')\n",
        "%matplotlib inline\n",
        "plt.rcParams['figure.figsize'] = (6.0, 4.0) # set default size of plots\n",
        "import matplotlib.pyplot as plt"
      ]
    },
    {
      "cell_type": "code",
      "execution_count": null,
      "metadata": {
        "id": "HYX1T_zSVIvI"
      },
      "outputs": [],
      "source": [
        "## Mount Google drive folder if running in Colab\n",
        "if('google.colab' in sys.modules):\n",
        "    from google.colab import drive\n",
        "    drive.mount('/content/drive', force_remount = True)\n",
        "    DIR = '/content/drive/MyDrive/Colab Notebooks/MAHE/MSIS Coursework/Miniprojects/Adil'\n",
        "    DATA_DIR = DIR + '/Data/'\n",
        "    os.chdir(DIR)\n",
        "else:\n",
        "    DATA_DIR = 'Data/'"
      ]
    },
    {
      "cell_type": "code",
      "execution_count": null,
      "metadata": {
        "id": "NzPfv_CVyDpq"
      },
      "outputs": [],
      "source": [
        "## Read data\n",
        "FILE = DATA_DIR + 'data.csv'\n",
        "df = pd.read_csv(FILE, sep = \",\", header = 0)\n",
        "df['time'] = pd.to_datetime(df['time'], format='%m-%d-%Y %H.%M')\n",
        "df.loc[:, (df.columns != 'time')] = df.loc[:, df.columns != 'time'].apply(pd.to_numeric, errors = 'coerce')\n",
        "df = df.set_index('time')\n",
        "df.head()"
      ]
    },
    {
      "cell_type": "code",
      "execution_count": null,
      "metadata": {
        "id": "vi5aIXFAgAZ9"
      },
      "outputs": [],
      "source": [
        "## Plot percentage of missing values (NaNs) for each feature\n",
        "cutoff = 30\n",
        "fig = plt.figure(figsize=(6, 6))\n",
        "percent_missing = (df.isna().sum() / df.shape[0]) * 100\n",
        "percent_missing.plot(kind = 'bar', color = cm.rainbow(np.linspace(0, 1, 2))[(percent_missing <= cutoff).values.astype(int)])\n",
        "plt.plot(np.arange(df.shape[1]), np.repeat(cutoff, df.shape[1]), 'g--')\n",
        "fig.suptitle('Percentage Missing Values Across All Features', fontsize = 20)\n",
        "plt.xlabel('Feature', fontsize = 16)\n",
        "plt.ylabel('% Missing Values', fontsize = 16)"
      ]
    },
    {
      "cell_type": "code",
      "execution_count": null,
      "metadata": {
        "id": "KX12wcB4QSI-"
      },
      "outputs": [],
      "source": [
        "## Linear interpolation for one column\n",
        "#df['Cyclone_Inlet_Gas_Temp'] = df['Cyclone_Inlet_Gas_Temp'].interpolate(method = 'linear')\n",
        "df.loc[:, (df.columns != 'time')] = df.loc[:, df.columns != 'time'].interpolate(method = 'linear')\n",
        "(df.isna().sum() / df.shape[0]) * 100"
      ]
    },
    {
      "cell_type": "code",
      "execution_count": null,
      "metadata": {
        "id": "HVMSss1ge5iz"
      },
      "outputs": [],
      "source": [
        "## Data preparation for anomaly detection\n",
        "feature = df.columns[0] # \"Cyclone_Inlet_Gas_Temp\"\n",
        "sampling_period = 5*60 # in seconds of the dataset as provided\n",
        "time_period =  12*60*60 # time duration in seconds corresoponding to each sample, in this case 12 hours\n",
        "scaler = {'identity': FunctionTransformer(lambda x: x), 'standard': StandardScaler()}\n",
        "df_transformed = pd.DataFrame(scaler['identity'].fit_transform(df))\n",
        "df_transformed.index = df.index.copy()\n",
        "df_transformed.columns = df.columns.copy()\n",
        "df_anomaly = df_transformed.groupby(pd.Grouper(freq = str(time_period)+'S')).apply(lambda x: x[feature].values if len(x[feature].values) == int(pd.Timedelta(str(time_period/sampling_period)+'S').total_seconds()) else np.nan)\n",
        "df_anomaly = df_anomaly.dropna()\n",
        "df_anomaly.head()"
      ]
    },
    {
      "cell_type": "code",
      "source": [
        "## Data preparation for autoregression\n",
        "feature = df.columns[0] # \"Cyclone_Inlet_Gas_Temp\"\n",
        "# Sampling period of the dataset (in this case, 5 mins)\n",
        "sampling_period = int(pd.Timedelta('5min').total_seconds()) # in seconds\n",
        "# Lag for autoregression (in this case, we regress on the past 12 hours):\n",
        "lag = int(pd.Timedelta('12h').total_seconds()) # in seconds\n",
        "scaler = {'identity': FunctionTransformer(lambda x: x), 'standard': StandardScaler()}\n",
        "df_transformed = pd.DataFrame(scaler['identity'].fit_transform(df))\n",
        "df_transformed.columns = df.columns.copy()\n",
        "df_transformed.index = df.index.copy()\n",
        "# Number of rows for rolling corresponding to the specified lag\n",
        "nroll = int(pd.Timedelta(str(lag/sampling_period)+'S').total_seconds())+1\n",
        "# Numpy array for autoregression\n",
        "X = np.lib.stride_tricks.sliding_window_view(df_transformed[feature], nroll)\n",
        "print(X)"
      ],
      "metadata": {
        "id": "60UJr6I-YL8N"
      },
      "execution_count": null,
      "outputs": []
    },
    {
      "cell_type": "code",
      "source": [
        "## Function for component-plotting a vector (that is, a time series sample)\n",
        "def plotveccomp(x, xlab, ylab, title, axis = None):\n",
        "  ax = axis\n",
        "  component_index = range(0, len(x))\n",
        "  ax.plot(component_index, x, color = 'black', marker = '')\n",
        "  ax.plot(component_index, [np.mean(x)]*len(x), linewidth = 1, linestyle = 'dashed', color ='blue')\n",
        "  ax.plot(component_index, [np.mean(x) - np.std(x)]*len(x), linewidth = 1, linestyle = 'dashed', color ='red')\n",
        "  ax.plot(component_index, [np.mean(x) + np.std(x)]*len(x), linewidth = 1, linestyle = 'dashed', color ='red')\n",
        "  ax.xaxis.set_minor_locator(dates.HourLocator(interval=4))\n",
        "  #ax.xaxis.set_minor_formatter(dates.DateFormatter('%H:%M'))  # hours and minutes\n",
        "  ax.set_xlabel(xlab)\n",
        "  ax.set_ylabel(ylab)\n",
        "  ax.set_title(title)"
      ],
      "metadata": {
        "id": "-RkruqhXXryh"
      },
      "execution_count": null,
      "outputs": []
    }
  ],
  "metadata": {
    "colab": {
      "provenance": []
    },
    "kernelspec": {
      "display_name": "Python 3",
      "language": "python",
      "name": "python3"
    },
    "language_info": {
      "codemirror_mode": {
        "name": "ipython",
        "version": 3
      },
      "file_extension": ".py",
      "mimetype": "text/x-python",
      "name": "python",
      "nbconvert_exporter": "python",
      "pygments_lexer": "ipython3",
      "version": "3.11.2"
    },
    "vscode": {
      "interpreter": {
        "hash": "854f9ff9f945bab8ba5d04e939504df285fc62eb45b7a687b185fca2375459b7"
      }
    }
  },
  "nbformat": 4,
  "nbformat_minor": 0
}