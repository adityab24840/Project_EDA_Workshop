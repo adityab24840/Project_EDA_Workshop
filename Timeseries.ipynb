{
  "cells": [
    {
      "cell_type": "code",
      "execution_count": 15,
      "metadata": {
        "id": "48vAXjSNQSI3"
      },
      "outputs": [
        {
          "name": "stderr",
          "output_type": "stream",
          "text": [
            "C:\\Users\\adity\\AppData\\Local\\Temp\\ipykernel_2844\\3796914203.py:18: MatplotlibDeprecationWarning: The seaborn styles shipped by Matplotlib are deprecated since 3.6, as they no longer correspond to the styles shipped by seaborn. However, they will remain available as 'seaborn-v0_8-<style>'. Alternatively, directly use the seaborn API instead.\n",
            "  plt.style.use('seaborn-whitegrid')\n"
          ]
        }
      ],
      "source": [
        "import pandas as pd\n",
        "import numpy as np\n",
        "import math\n",
        "import os\n",
        "import sys\n",
        "import datetime\n",
        "\n",
        "from scipy.spatial.distance import pdist, squareform\n",
        "from scipy.fftpack import fft\n",
        "from sklearn.manifold import MDS\n",
        "from sklearn.neighbors import NearestNeighbors\n",
        "from sklearn.preprocessing import StandardScaler, FunctionTransformer\n",
        "from sklearn.linear_model import LinearRegression, Ridge, Lasso\n",
        "\n",
        "import matplotlib.pyplot as plt\n",
        "import matplotlib.cm as cm\n",
        "import matplotlib.dates as dates\n",
        "plt.style.use('seaborn-whitegrid')\n",
        "%matplotlib inline\n",
        "plt.rcParams['figure.figsize'] = (6.0, 4.0) # set default size of plots\n",
        "import matplotlib.pyplot as plt"
      ]
    },
    {
      "cell_type": "code",
      "execution_count": 16,
      "metadata": {
        "id": "HYX1T_zSVIvI"
      },
      "outputs": [],
      "source": [
        "\n",
        "DIR='D:/ME/Lab/Workshop/EDA/Project_EDA_Workshops'\n",
        "DATA_DIR=DIR+'/Data/'"
      ]
    },
    {
      "cell_type": "code",
      "execution_count": 17,
      "metadata": {
        "id": "NzPfv_CVyDpq"
      },
      "outputs": [],
      "source": [
        "## Read data\n",
        "FILE = DATA_DIR + 'timeseriesdata.csv'\n",
        "df = pd.read_csv(FILE, sep = \",\", header = 0)\n"
      ]
    },
    {
      "cell_type": "code",
      "execution_count": 18,
      "metadata": {},
      "outputs": [
        {
          "data": {
            "text/plain": [
              "0          1-1-2017 0.00\n",
              "1          1-1-2017 0.05\n",
              "2          1-1-2017 0.10\n",
              "3          1-1-2017 0.15\n",
              "4          1-1-2017 0.20\n",
              "               ...      \n",
              "377714    8-7-2020 11.55\n",
              "377715    8-7-2020 12.00\n",
              "377716    8-7-2020 12.05\n",
              "377717    8-7-2020 12.10\n",
              "377718    8-7-2020 12.15\n",
              "Name: time, Length: 377719, dtype: object"
            ]
          },
          "execution_count": 18,
          "metadata": {},
          "output_type": "execute_result"
        }
      ],
      "source": [
        "df['time']"
      ]
    },
    {
      "cell_type": "code",
      "execution_count": 28,
      "metadata": {},
      "outputs": [
        {
          "data": {
            "text/html": [
              "<div>\n",
              "<style scoped>\n",
              "    .dataframe tbody tr th:only-of-type {\n",
              "        vertical-align: middle;\n",
              "    }\n",
              "\n",
              "    .dataframe tbody tr th {\n",
              "        vertical-align: top;\n",
              "    }\n",
              "\n",
              "    .dataframe thead th {\n",
              "        text-align: right;\n",
              "    }\n",
              "</style>\n",
              "<table border=\"1\" class=\"dataframe\">\n",
              "  <thead>\n",
              "    <tr style=\"text-align: right;\">\n",
              "      <th></th>\n",
              "      <th>Cyclone_Inlet_Gas_Temp</th>\n",
              "      <th>Cyclone_Material_Temp</th>\n",
              "      <th>Cyclone_Outlet_Gas_draft</th>\n",
              "      <th>Cyclone_cone_draft</th>\n",
              "      <th>Cyclone_Gas_Outlet_Temp</th>\n",
              "      <th>Cyclone_Inlet_Draft</th>\n",
              "    </tr>\n",
              "    <tr>\n",
              "      <th>time</th>\n",
              "      <th></th>\n",
              "      <th></th>\n",
              "      <th></th>\n",
              "      <th></th>\n",
              "      <th></th>\n",
              "      <th></th>\n",
              "    </tr>\n",
              "  </thead>\n",
              "  <tbody>\n",
              "    <tr>\n",
              "      <th>2017-01-01 00:00:00</th>\n",
              "      <td>867.63</td>\n",
              "      <td>910.42</td>\n",
              "      <td>-189.54</td>\n",
              "      <td>-186.04</td>\n",
              "      <td>852.13</td>\n",
              "      <td>-145.90</td>\n",
              "    </tr>\n",
              "    <tr>\n",
              "      <th>2017-01-01 00:05:00</th>\n",
              "      <td>879.23</td>\n",
              "      <td>918.14</td>\n",
              "      <td>-184.33</td>\n",
              "      <td>-182.10</td>\n",
              "      <td>862.53</td>\n",
              "      <td>-149.76</td>\n",
              "    </tr>\n",
              "    <tr>\n",
              "      <th>2017-01-01 00:10:00</th>\n",
              "      <td>875.67</td>\n",
              "      <td>924.18</td>\n",
              "      <td>-181.26</td>\n",
              "      <td>-166.47</td>\n",
              "      <td>866.06</td>\n",
              "      <td>-145.01</td>\n",
              "    </tr>\n",
              "    <tr>\n",
              "      <th>2017-01-01 00:15:00</th>\n",
              "      <td>875.28</td>\n",
              "      <td>923.15</td>\n",
              "      <td>-179.15</td>\n",
              "      <td>-174.83</td>\n",
              "      <td>865.85</td>\n",
              "      <td>-142.82</td>\n",
              "    </tr>\n",
              "    <tr>\n",
              "      <th>2017-01-01 00:20:00</th>\n",
              "      <td>891.66</td>\n",
              "      <td>934.26</td>\n",
              "      <td>-178.32</td>\n",
              "      <td>-173.72</td>\n",
              "      <td>876.06</td>\n",
              "      <td>-143.39</td>\n",
              "    </tr>\n",
              "  </tbody>\n",
              "</table>\n",
              "</div>"
            ],
            "text/plain": [
              "                     Cyclone_Inlet_Gas_Temp  Cyclone_Material_Temp  \\\n",
              "time                                                                 \n",
              "2017-01-01 00:00:00                  867.63                 910.42   \n",
              "2017-01-01 00:05:00                  879.23                 918.14   \n",
              "2017-01-01 00:10:00                  875.67                 924.18   \n",
              "2017-01-01 00:15:00                  875.28                 923.15   \n",
              "2017-01-01 00:20:00                  891.66                 934.26   \n",
              "\n",
              "                     Cyclone_Outlet_Gas_draft  Cyclone_cone_draft  \\\n",
              "time                                                                \n",
              "2017-01-01 00:00:00                   -189.54             -186.04   \n",
              "2017-01-01 00:05:00                   -184.33             -182.10   \n",
              "2017-01-01 00:10:00                   -181.26             -166.47   \n",
              "2017-01-01 00:15:00                   -179.15             -174.83   \n",
              "2017-01-01 00:20:00                   -178.32             -173.72   \n",
              "\n",
              "                     Cyclone_Gas_Outlet_Temp  Cyclone_Inlet_Draft  \n",
              "time                                                               \n",
              "2017-01-01 00:00:00                   852.13              -145.90  \n",
              "2017-01-01 00:05:00                   862.53              -149.76  \n",
              "2017-01-01 00:10:00                   866.06              -145.01  \n",
              "2017-01-01 00:15:00                   865.85              -142.82  \n",
              "2017-01-01 00:20:00                   876.06              -143.39  "
            ]
          },
          "execution_count": 28,
          "metadata": {},
          "output_type": "execute_result"
        }
      ],
      "source": [
        "df['time'] = pd.to_datetime(df['time'], format='%m-%d-%Y %H.%M')\n",
        "df.loc[:, (df.columns != 'time')] = df.loc[:, df.columns != 'time'].apply(pd.to_numeric, errors = 'coerce')\n",
        "df = df.set_index('time')\n",
        "df.head()"
      ]
    },
    {
      "cell_type": "code",
      "execution_count": 20,
      "metadata": {
        "id": "vi5aIXFAgAZ9"
      },
      "outputs": [
        {
          "data": {
            "text/plain": [
              "Text(0, 0.5, '% Missing Values')"
            ]
          },
          "execution_count": 20,
          "metadata": {},
          "output_type": "execute_result"
        },
        {
          "data": {
            "image/png": "[encoded data removed]",
            "text/plain": [
              "<Figure size 600x600 with 1 Axes>"
            ]
          },
          "metadata": {},
          "output_type": "display_data"
        }
      ],
      "source": [
        "## Plot percentage of missing values (NaNs) for each feature\n",
        "cutoff = 30\n",
        "fig = plt.figure(figsize=(6, 6))\n",
        "percent_missing = (df.isna().sum() / df.shape[0]) * 100\n",
        "percent_missing.plot(kind = 'bar', color = cm.rainbow(np.linspace(0, 1, 2))[(percent_missing <= cutoff).values.astype(int)])\n",
        "plt.plot(np.arange(df.shape[1]), np.repeat(cutoff, df.shape[1]), 'g--')\n",
        "fig.suptitle('Percentage Missing Values Across All Features', fontsize = 20)\n",
        "plt.xlabel('Feature', fontsize = 16)\n",
        "plt.ylabel('% Missing Values', fontsize = 16)"
      ]
    },
    {
      "cell_type": "code",
      "execution_count": 21,
      "metadata": {},
      "outputs": [
        {
          "name": "stdout",
          "output_type": "stream",
          "text": [
            "[False  True  True  True  True  True  True]\n"
          ]
        }
      ],
      "source": [
        "print(df.columns!='time')"
      ]
    },
    {
      "cell_type": "code",
      "execution_count": 22,
      "metadata": {},
      "outputs": [
        {
          "data": {
            "text/html": [
              "<div>\n",
              "<style scoped>\n",
              "    .dataframe tbody tr th:only-of-type {\n",
              "        vertical-align: middle;\n",
              "    }\n",
              "\n",
              "    .dataframe tbody tr th {\n",
              "        vertical-align: top;\n",
              "    }\n",
              "\n",
              "    .dataframe thead th {\n",
              "        text-align: right;\n",
              "    }\n",
              "</style>\n",
              "<table border=\"1\" class=\"dataframe\">\n",
              "  <thead>\n",
              "    <tr style=\"text-align: right;\">\n",
              "      <th></th>\n",
              "      <th>Cyclone_Inlet_Gas_Temp</th>\n",
              "      <th>Cyclone_Material_Temp</th>\n",
              "      <th>Cyclone_Outlet_Gas_draft</th>\n",
              "      <th>Cyclone_cone_draft</th>\n",
              "      <th>Cyclone_Gas_Outlet_Temp</th>\n",
              "      <th>Cyclone_Inlet_Draft</th>\n",
              "    </tr>\n",
              "  </thead>\n",
              "  <tbody>\n",
              "    <tr>\n",
              "      <th>0</th>\n",
              "      <td>867.63</td>\n",
              "      <td>910.42</td>\n",
              "      <td>-189.54</td>\n",
              "      <td>-186.04</td>\n",
              "      <td>852.13</td>\n",
              "      <td>-145.90</td>\n",
              "    </tr>\n",
              "    <tr>\n",
              "      <th>1</th>\n",
              "      <td>879.23</td>\n",
              "      <td>918.14</td>\n",
              "      <td>-184.33</td>\n",
              "      <td>-182.10</td>\n",
              "      <td>862.53</td>\n",
              "      <td>-149.76</td>\n",
              "    </tr>\n",
              "    <tr>\n",
              "      <th>2</th>\n",
              "      <td>875.67</td>\n",
              "      <td>924.18</td>\n",
              "      <td>-181.26</td>\n",
              "      <td>-166.47</td>\n",
              "      <td>866.06</td>\n",
              "      <td>-145.01</td>\n",
              "    </tr>\n",
              "    <tr>\n",
              "      <th>3</th>\n",
              "      <td>875.28</td>\n",
              "      <td>923.15</td>\n",
              "      <td>-179.15</td>\n",
              "      <td>-174.83</td>\n",
              "      <td>865.85</td>\n",
              "      <td>-142.82</td>\n",
              "    </tr>\n",
              "    <tr>\n",
              "      <th>4</th>\n",
              "      <td>891.66</td>\n",
              "      <td>934.26</td>\n",
              "      <td>-178.32</td>\n",
              "      <td>-173.72</td>\n",
              "      <td>876.06</td>\n",
              "      <td>-143.39</td>\n",
              "    </tr>\n",
              "    <tr>\n",
              "      <th>...</th>\n",
              "      <td>...</td>\n",
              "      <td>...</td>\n",
              "      <td>...</td>\n",
              "      <td>...</td>\n",
              "      <td>...</td>\n",
              "      <td>...</td>\n",
              "    </tr>\n",
              "    <tr>\n",
              "      <th>377714</th>\n",
              "      <td>899.42</td>\n",
              "      <td>919.79</td>\n",
              "      <td>-224.07</td>\n",
              "      <td>-209.77</td>\n",
              "      <td>901.01</td>\n",
              "      <td>-175.15</td>\n",
              "    </tr>\n",
              "    <tr>\n",
              "      <th>377715</th>\n",
              "      <td>879.90</td>\n",
              "      <td>895.02</td>\n",
              "      <td>-228.04</td>\n",
              "      <td>-211.28</td>\n",
              "      <td>878.08</td>\n",
              "      <td>-176.94</td>\n",
              "    </tr>\n",
              "    <tr>\n",
              "      <th>377716</th>\n",
              "      <td>887.20</td>\n",
              "      <td>895.70</td>\n",
              "      <td>-230.11</td>\n",
              "      <td>-214.65</td>\n",
              "      <td>885.32</td>\n",
              "      <td>-179.18</td>\n",
              "    </tr>\n",
              "    <tr>\n",
              "      <th>377717</th>\n",
              "      <td>908.50</td>\n",
              "      <td>916.33</td>\n",
              "      <td>-231.51</td>\n",
              "      <td>-218.09</td>\n",
              "      <td>906.20</td>\n",
              "      <td>-181.96</td>\n",
              "    </tr>\n",
              "    <tr>\n",
              "      <th>377718</th>\n",
              "      <td>880.86</td>\n",
              "      <td>905.31</td>\n",
              "      <td>-235.02</td>\n",
              "      <td>-219.44</td>\n",
              "      <td>882.10</td>\n",
              "      <td>-184.02</td>\n",
              "    </tr>\n",
              "  </tbody>\n",
              "</table>\n",
              "<p>377719 rows × 6 columns</p>\n",
              "</div>"
            ],
            "text/plain": [
              "        Cyclone_Inlet_Gas_Temp  Cyclone_Material_Temp  \\\n",
              "0                       867.63                 910.42   \n",
              "1                       879.23                 918.14   \n",
              "2                       875.67                 924.18   \n",
              "3                       875.28                 923.15   \n",
              "4                       891.66                 934.26   \n",
              "...                        ...                    ...   \n",
              "377714                  899.42                 919.79   \n",
              "377715                  879.90                 895.02   \n",
              "377716                  887.20                 895.70   \n",
              "377717                  908.50                 916.33   \n",
              "377718                  880.86                 905.31   \n",
              "\n",
              "        Cyclone_Outlet_Gas_draft  Cyclone_cone_draft  Cyclone_Gas_Outlet_Temp  \\\n",
              "0                        -189.54             -186.04                   852.13   \n",
              "1                        -184.33             -182.10                   862.53   \n",
              "2                        -181.26             -166.47                   866.06   \n",
              "3                        -179.15             -174.83                   865.85   \n",
              "4                        -178.32             -173.72                   876.06   \n",
              "...                          ...                 ...                      ...   \n",
              "377714                   -224.07             -209.77                   901.01   \n",
              "377715                   -228.04             -211.28                   878.08   \n",
              "377716                   -230.11             -214.65                   885.32   \n",
              "377717                   -231.51             -218.09                   906.20   \n",
              "377718                   -235.02             -219.44                   882.10   \n",
              "\n",
              "        Cyclone_Inlet_Draft  \n",
              "0                   -145.90  \n",
              "1                   -149.76  \n",
              "2                   -145.01  \n",
              "3                   -142.82  \n",
              "4                   -143.39  \n",
              "...                     ...  \n",
              "377714              -175.15  \n",
              "377715              -176.94  \n",
              "377716              -179.18  \n",
              "377717              -181.96  \n",
              "377718              -184.02  \n",
              "\n",
              "[377719 rows x 6 columns]"
            ]
          },
          "execution_count": 22,
          "metadata": {},
          "output_type": "execute_result"
        }
      ],
      "source": [
        "df.loc[:,(df.columns!='time')]"
      ]
    },
    {
      "cell_type": "code",
      "execution_count": 26,
      "metadata": {},
      "outputs": [
        {
          "data": {
            "text/plain": [
              "pandas.core.frame.DataFrame"
            ]
          },
          "execution_count": 26,
          "metadata": {},
          "output_type": "execute_result"
        }
      ],
      "source": [
        "type(df.loc[:, df.columns != 'time'])"
      ]
    },
    {
      "cell_type": "code",
      "execution_count": 29,
      "metadata": {
        "id": "KX12wcB4QSI-"
      },
      "outputs": [
        {
          "data": {
            "text/plain": [
              "Cyclone_Inlet_Gas_Temp      0.0\n",
              "Cyclone_Material_Temp       0.0\n",
              "Cyclone_Outlet_Gas_draft    0.0\n",
              "Cyclone_cone_draft          0.0\n",
              "Cyclone_Gas_Outlet_Temp     0.0\n",
              "Cyclone_Inlet_Draft         0.0\n",
              "dtype: float64"
            ]
          },
          "execution_count": 29,
          "metadata": {},
          "output_type": "execute_result"
        }
      ],
      "source": [
        "## Linear interpolation for one column\n",
        "#df['Cyclone_Inlet_Gas_Temp'] = df['Cyclone_Inlet_Gas_Temp'].interpolate(method = 'linear')\n",
        "df.loc[:, (df.columns != 'time')] = df.loc[:, df.columns != 'time'].interpolate(method = 'linear')\n",
        "(df.isna().sum() / df.shape[0]) * 100"
      ]
    },
    {
      "cell_type": "code",
      "execution_count": 30,
      "metadata": {
        "id": "HVMSss1ge5iz"
      },
      "outputs": [
        {
          "data": {
            "text/plain": [
              "time\n",
              "2017-01-01 00:00:00    [867.63, 879.23, 875.67, 875.28, 891.66, 878.5...\n",
              "2017-01-01 12:00:00    [867.67, 894.24, 868.19, 897.61, 858.37, 886.0...\n",
              "2017-01-02 00:00:00    [874.96, 911.36, 871.52, 902.01, 890.17, 923.8...\n",
              "2017-01-02 12:00:00    [886.09, 910.84, 876.72, 920.58, 874.44, 909.9...\n",
              "2017-01-03 00:00:00    [895.79, 890.98, 885.45, 907.22, 880.65, 882.1...\n",
              "dtype: object"
            ]
          },
          "execution_count": 30,
          "metadata": {},
          "output_type": "execute_result"
        }
      ],
      "source": [
        "## Data preparation for anomaly detection\n",
        "feature = df.columns[0] # \"Cyclone_Inlet_Gas_Temp\"\n",
        "sampling_period = 5*60 # in seconds of the dataset as provided\n",
        "time_period =  12*60*60 # time duration in seconds corresoponding to each sample, in this case 12 hours\n",
        "scaler = {'identity': FunctionTransformer(lambda x: x), 'standard': StandardScaler()}\n",
        "df_transformed = pd.DataFrame(scaler['identity'].fit_transform(df))\n",
        "df_transformed.index = df.index.copy()\n",
        "df_transformed.columns = df.columns.copy()\n",
        "df_anomaly = df_transformed.groupby(pd.Grouper(freq = str(time_period)+'S')).apply(lambda x: x[feature].values if len(x[feature].values) == int(pd.Timedelta(str(time_period/sampling_period)+'S').total_seconds()) else np.nan)\n",
        "df_anomaly = df_anomaly.dropna()\n",
        "df_anomaly.head()"
      ]
    },
    {
      "cell_type": "code",
      "execution_count": null,
      "metadata": {
        "id": "60UJr6I-YL8N"
      },
      "outputs": [],
      "source": [
        "## Data preparation for autoregression\n",
        "feature = df.columns[0] # \"Cyclone_Inlet_Gas_Temp\"\n",
        "# Sampling period of the dataset (in this case, 5 mins)\n",
        "sampling_period = int(pd.Timedelta('5min').total_seconds()) # in seconds\n",
        "# Lag for autoregression (in this case, we regress on the past 12 hours):\n",
        "lag = int(pd.Timedelta('12h').total_seconds()) # in seconds\n",
        "scaler = {'identity': FunctionTransformer(lambda x: x), 'standard': StandardScaler()}\n",
        "df_transformed = pd.DataFrame(scaler['identity'].fit_transform(df))\n",
        "df_transformed.columns = df.columns.copy()\n",
        "df_transformed.index = df.index.copy()\n",
        "# Number of rows for rolling corresponding to the specified lag\n",
        "nroll = int(pd.Timedelta(str(lag/sampling_period)+'S').total_seconds())+1\n",
        "# Numpy array for autoregression\n",
        "X = np.lib.stride_tricks.sliding_window_view(df_transformed[feature], nroll)\n",
        "print(X)"
      ]
    },
    {
      "cell_type": "code",
      "execution_count": null,
      "metadata": {
        "id": "-RkruqhXXryh"
      },
      "outputs": [],
      "source": [
        "## Function for component-plotting a vector (that is, a time series sample)\n",
        "def plotveccomp(x, xlab, ylab, title, axis = None):\n",
        "  ax = axis\n",
        "  component_index = range(0, len(x))\n",
        "  ax.plot(component_index, x, color = 'black', marker = '')\n",
        "  ax.plot(component_index, [np.mean(x)]*len(x), linewidth = 1, linestyle = 'dashed', color ='blue')\n",
        "  ax.plot(component_index, [np.mean(x) - np.std(x)]*len(x), linewidth = 1, linestyle = 'dashed', color ='red')\n",
        "  ax.plot(component_index, [np.mean(x) + np.std(x)]*len(x), linewidth = 1, linestyle = 'dashed', color ='red')\n",
        "  ax.xaxis.set_minor_locator(dates.HourLocator(interval=4))\n",
        "  #ax.xaxis.set_minor_formatter(dates.DateFormatter('%H:%M'))  # hours and minutes\n",
        "  ax.set_xlabel(xlab)\n",
        "  ax.set_ylabel(ylab)\n",
        "  ax.set_title(title)"
      ]
    }
  ],
  "metadata": {
    "colab": {
      "provenance": []
    },
    "kernelspec": {
      "display_name": "Python 3",
      "language": "python",
      "name": "python3"
    },
    "language_info": {
      "codemirror_mode": {
        "name": "ipython",
        "version": 3
      },
      "file_extension": ".py",
      "mimetype": "text/x-python",
      "name": "python",
      "nbconvert_exporter": "python",
      "pygments_lexer": "ipython3",
      "version": "3.9.17"
    },
    "vscode": {
      "interpreter": {
        "hash": "854f9ff9f945bab8ba5d04e939504df285fc62eb45b7a687b185fca2375459b7"
      }
    }
  },
  "nbformat": 4,
  "nbformat_minor": 0
}
