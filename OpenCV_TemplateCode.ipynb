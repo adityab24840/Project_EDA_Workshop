{
  "nbformat": 4,
  "nbformat_minor": 0,
  "metadata": {
    "colab": {
      "provenance": []
    },
    "kernelspec": {
      "name": "python3",
      "display_name": "Python 3"
    }
  },
  "cells": [
    {
      "cell_type": "code",
      "metadata": {
        "id": "AtKh7DZWkCMa"
      },
      "source": [
        "## Import essential libraries\n",
        "import pandas as pd\n",
        "import numpy as np\n",
        "import cv2\n",
        "from google.colab.patches import cv2_imshow\n",
        "import os\n",
        "import sys\n",
        "import matplotlib.pyplot as plt\n",
        "import matplotlib.cm as cm\n",
        "import matplotlib.colors\n",
        "plt.style.use('seaborn-whitegrid')\n",
        "%matplotlib inline\n",
        "\n",
        "from PIL import Image\n",
        "from sklearn.preprocessing import StandardScaler, RobustScaler\n",
        "from scipy.special import softmax"
      ],
      "execution_count": null,
      "outputs": []
    },
    {
      "cell_type": "code",
      "source": [
        "## Mount Google drive folder if running in Colab\n",
        "if('google.colab' in sys.modules):\n",
        "    from google.colab import drive\n",
        "    drive.mount('/content/drive', force_remount = True)\n",
        "    DIR = '/content/drive/MyDrive/Colab Notebooks/MAHE/Research/MSIS_RandD/ECG'\n",
        "    DATA_DIR = DIR+'/Data/'\n",
        "else:\n",
        "    DATA_DIR = 'Data/'"
      ],
      "metadata": {
        "id": "av0xZsercQyR"
      },
      "execution_count": null,
      "outputs": []
    },
    {
      "cell_type": "code",
      "source": [
        "## Read ECG image\n",
        "FILE = 'WhatsApp Image 2023-04-17 at 13.56.00.jpeg'\n",
        "img = cv2.imread(DATA_DIR + FILE)\n",
        "cv2_imshow(img)"
      ],
      "metadata": {
        "id": "Zd7E4M87UPAf"
      },
      "execution_count": null,
      "outputs": []
    },
    {
      "cell_type": "code",
      "source": [
        "## Image transformation\n",
        "\n",
        "# Convert image to grayscale\n",
        "img_gray = cv2.cvtColor(img, cv2.COLOR_BGR2GRAY)\n",
        "\n",
        "# Smoothen image\n",
        "img_gray = cv2.GaussianBlur(img_gray, (5, 5), 0)\n",
        "cv2_imshow(img_gray)\n",
        "\n",
        "# Set all pixels above \"cutoff\" to 255, and remaining pixels to 0\n",
        "cutoff = 140\n",
        "#img_thresh = cv2.adaptiveThreshold(img_gray, 255, cv2.ADAPTIVE_THRESH_GAUSSIAN_C, cv2.THRESH_BINARY_INV, 91, 2)\n",
        "img_thresh = cv2.threshold(img_gray, cutoff, 255, cv2.THRESH_BINARY)[1]\n",
        "\n",
        "# Reverse polarity for clarity\n",
        "img_thresh = 255 - img_thresh\n",
        "cv2_imshow(img_thresh)"
      ],
      "metadata": {
        "id": "b_ujCR_vweLS"
      },
      "execution_count": null,
      "outputs": []
    }
  ]
}