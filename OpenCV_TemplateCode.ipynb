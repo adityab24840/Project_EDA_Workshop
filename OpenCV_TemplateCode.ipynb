{
  "cells": [
    {
      "cell_type": "code",
      "execution_count": 10,
      "metadata": {
        "id": "AtKh7DZWkCMa"
      },
      "outputs": [
        {
          "name": "stderr",
          "output_type": "stream",
          "text": [
            "C:\\Users\\adity\\AppData\\Local\\Temp\\ipykernel_21432\\3144776525.py:11: MatplotlibDeprecationWarning: The seaborn styles shipped by Matplotlib are deprecated since 3.6, as they no longer correspond to the styles shipped by seaborn. However, they will remain available as 'seaborn-v0_8-<style>'. Alternatively, directly use the seaborn API instead.\n",
            "  plt.style.use('seaborn-whitegrid')\n"
          ]
        }
      ],
      "source": [
        "## Import essential libraries\n",
        "import pandas as pd\n",
        "import numpy as np\n",
        "import cv2 \n",
        "#from google.colab.patches import cv2_imshow\n",
        "import os\n",
        "import sys\n",
        "import matplotlib.pyplot as plt\n",
        "import matplotlib.cm as cm\n",
        "import matplotlib.colors\n",
        "plt.style.use('seaborn-whitegrid')\n",
        "%matplotlib inline\n",
        "\n",
        "from PIL import Image\n",
        "from sklearn.preprocessing import StandardScaler, RobustScaler\n",
        "from scipy.special import softmax"
      ]
    },
    {
      "cell_type": "code",
      "execution_count": 11,
      "metadata": {
        "id": "av0xZsercQyR"
      },
      "outputs": [],
      "source": [
        "## Mount Google drive folder if running in Colab\n",
        "# if('google.colab' in sys.modules):\n",
        "#     from google.colab import drive\n",
        "#     drive.mount('/content/drive', force_remount = True)\n",
        "#     DIR = '/content/drive/MyDrive/Colab Notebooks/MAHE/Research/MSIS_RandD/ECG'\n",
        "#     DATA_DIR = DIR+'/Data/'\n",
        "# else:\n",
        "#     DATA_DIR = 'Data/'\n",
        "\n",
        "#change the directory to your machine \n",
        "\n",
        "DIR='D:/ME/Lab/Workshop/EDA/Project_EDA_Workshops'\n",
        "DATA_DIR=DIR+'/Data/'"
      ]
    },
    {
      "cell_type": "code",
      "execution_count": 15,
      "metadata": {
        "id": "Zd7E4M87UPAf"
      },
      "outputs": [],
      "source": [
        "# Read ECG image\n",
        "FILE = 'Image_43.tif'\n",
        "img = cv2.imread(DATA_DIR + FILE)\n",
        "cv2.imshow('Image',img)\n",
        "cv2.imwrite('Image.jpg',img)\n",
        "cv2.waitKey(0)\n",
        "cv2.destroyAllWindows()"
      ]
    },
    {
      "cell_type": "code",
      "execution_count": null,
      "metadata": {},
      "outputs": [
        {
          "name": "stdout",
          "output_type": "stream",
          "text": [
            "<class 'numpy.ndarray'>\n"
          ]
        },
        {
          "data": {
            "text/plain": [
              "(600, 960, 3)"
            ]
          },
          "execution_count": 4,
          "metadata": {},
          "output_type": "execute_result"
        }
      ],
      "source": [
        "print(type(img))\n",
        "img.shape\n",
        "#openCV make the image to numpy.ndarray \n"
      ]
    },
    {
      "cell_type": "code",
      "execution_count": null,
      "metadata": {
        "id": "b_ujCR_vweLS"
      },
      "outputs": [],
      "source": [
        "## Image transformation\n",
        "\n",
        "# Convert image to grayscale\n",
        "img_gray = cv2.cvtColor(img, cv2.COLOR_BGR2GRAY)\n",
        "\n",
        "# Smoothen image\n",
        "img_gray = cv2.GaussianBlur(img_gray, (5, 5), 0)\n",
        "cv2.imshow('Gray Image',img_gray)\n",
        "cv2.imwrite('Gray Image.jpg',img_gray)\n",
        "cv2.waitKey(0)\n",
        "cv2.destroyAllWindows()\n",
        "# Set all pixels above \"cutoff\" to 255, and remaining pixels to 0\n",
        "cutoff = 140\n",
        "#img_thresh = cv2.adaptiveThreshold(img_gray, 255, cv2.ADAPTIVE_THRESH_GAUSSIAN_C, cv2.THRESH_BINARY_INV, 91, 2)\n",
        "img_thresh = cv2.threshold(img_gray, cutoff, 255, cv2.THRESH_BINARY)[1]\n",
        "\n",
        "# Reverse polarity for clarity\n",
        "img_thresh = 255 - img_thresh\n",
        "cv2.imshow('Threshold Image',img_thresh)\n",
        "cv2.imwrite('ThresholdImage.jpg',img_thresh)\n",
        "cv2.waitKey(0)\n",
        "cv2.destroyAllWindows()"
      ]
    }
  ],
  "metadata": {
    "colab": {
      "provenance": []
    },
    "kernelspec": {
      "display_name": "Python 3",
      "name": "python3"
    },
    "language_info": {
      "codemirror_mode": {
        "name": "ipython",
        "version": 3
      },
      "file_extension": ".py",
      "mimetype": "text/x-python",
      "name": "python",
      "nbconvert_exporter": "python",
      "pygments_lexer": "ipython3",
      "version": "3.9.17"
    }
  },
  "nbformat": 4,
  "nbformat_minor": 0
}
